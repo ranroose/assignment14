{
 "cells": [
  {
   "cell_type": "code",
   "execution_count": 4,
   "id": "10543877-049b-4d26-b508-720b35aea462",
   "metadata": {
    "tags": []
   },
   "outputs": [
    {
     "name": "stdout",
     "output_type": "stream",
     "text": [
      "25\n"
     ]
    }
   ],
   "source": [
    "def sum_of_digits(n):\n",
    "    if n < 10:\n",
    "        return n\n",
    "    else:\n",
    "        return (n % 10) + sum_of_digits(n // 10)\n",
    "n = 53872\n",
    "print(sum_of_digits(n)) \n"
   ]
  },
  {
   "cell_type": "code",
   "execution_count": 7,
   "id": "b8ade97d-bb9a-49fd-bc4d-d3d6f8c93e1f",
   "metadata": {
    "tags": []
   },
   "outputs": [
    {
     "name": "stdout",
     "output_type": "stream",
     "text": [
      "144991\n"
     ]
    }
   ],
   "source": [
    "def sum_up_to_n(n):\n",
    "    if n == 0:\n",
    "        return 0\n",
    "    else:\n",
    "        return n + sum_up_to_n(n - 1)\n",
    "n = 538\n",
    "print(sum_up_to_n(n))\n"
   ]
  },
  {
   "cell_type": "code",
   "execution_count": 8,
   "id": "a1c26c76-3a02-4624-afeb-96eb50dadc90",
   "metadata": {
    "tags": []
   },
   "outputs": [
    {
     "name": "stdout",
     "output_type": "stream",
     "text": [
      "5\n"
     ]
    }
   ],
   "source": [
    "def fibonacci(n):\n",
    "    if n == 0:\n",
    "        return 0\n",
    "    elif n == 1:\n",
    "        return 1\n",
    "    else:\n",
    "        return fibonacci(n - 1) + fibonacci(n - 2)\n",
    "n = 5\n",
    "print(fibonacci(n)) \n"
   ]
  },
  {
   "cell_type": "code",
   "execution_count": null,
   "id": "be521eec-0a69-4f5b-b724-8ad73a4d4f1b",
   "metadata": {},
   "outputs": [],
   "source": []
  }
 ],
 "metadata": {
  "kernelspec": {
   "display_name": "Python 3 (ipykernel)",
   "language": "python",
   "name": "python3"
  },
  "language_info": {
   "codemirror_mode": {
    "name": "ipython",
    "version": 3
   },
   "file_extension": ".py",
   "mimetype": "text/x-python",
   "name": "python",
   "nbconvert_exporter": "python",
   "pygments_lexer": "ipython3",
   "version": "3.10.8"
  }
 },
 "nbformat": 4,
 "nbformat_minor": 5
}
