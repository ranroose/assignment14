{
 "cells": [
  {
   "cell_type": "code",
   "execution_count": 5,
   "id": "48dfaa7d-7f24-4dd7-a9e2-4d8e05b281e9",
   "metadata": {
    "tags": []
   },
   "outputs": [
    {
     "name": "stdout",
     "output_type": "stream",
     "text": [
      "0\n",
      "1\n",
      "4\n",
      "9\n",
      "16\n"
     ]
    }
   ],
   "source": [
    "n=13\n",
    "for i in range(n):\n",
    "    i*=i  \n",
    "    print (i)\n",
    "    if i>=n:\n",
    "        break\n",
    "\n"
   ]
  },
  {
   "cell_type": "code",
   "execution_count": 6,
   "id": "1c07725d-9f3d-40a2-bca9-4d034b08de7c",
   "metadata": {},
   "outputs": [
    {
     "name": "stdout",
     "output_type": "stream",
     "text": [
      "1\n",
      "2\n",
      "4\n",
      "8\n",
      "16\n"
     ]
    }
   ],
   "source": [
    "n=13\n",
    "for i in range(n):\n",
    "    i=pow(2,i)  \n",
    "    print (i)\n",
    "    if i>(n+1):\n",
    "        break\n"
   ]
  },
  {
   "cell_type": "code",
   "execution_count": 13,
   "id": "0df182e8-4ed7-45cc-8708-42f4d10d6be1",
   "metadata": {},
   "outputs": [
    {
     "name": "stdout",
     "output_type": "stream",
     "text": [
      "0 3\n",
      "0 2\n",
      "0 1\n",
      "1 2\n",
      "0 1\n",
      "1 3\n",
      "0 2\n",
      "0 1\n",
      "1 2\n",
      "0 1\n",
      "2 3\n",
      "0 2\n",
      "0 1\n",
      "1 2\n",
      "0 1\n"
     ]
    }
   ],
   "source": [
    "n=3\n",
    "def complex_method(n):\n",
    "    for i in range (n):\n",
    "        print (i,n)\n",
    "        if n>1:\n",
    "            complex_method(n-1)\n",
    "        else:\n",
    "            return True\n",
    "complex_method(n)"
   ]
  },
  {
   "cell_type": "code",
   "execution_count": null,
   "id": "ea4c2afc-edaf-4002-9306-fea3c0461c04",
   "metadata": {},
   "outputs": [],
   "source": []
  }
 ],
 "metadata": {
  "kernelspec": {
   "display_name": "Python 3 (ipykernel)",
   "language": "python",
   "name": "python3"
  },
  "language_info": {
   "codemirror_mode": {
    "name": "ipython",
    "version": 3
   },
   "file_extension": ".py",
   "mimetype": "text/x-python",
   "name": "python",
   "nbconvert_exporter": "python",
   "pygments_lexer": "ipython3",
   "version": "3.10.8"
  }
 },
 "nbformat": 4,
 "nbformat_minor": 5
}
